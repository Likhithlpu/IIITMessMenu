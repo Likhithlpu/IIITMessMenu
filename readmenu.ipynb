{
 "cells": [
  {
   "cell_type": "code",
   "execution_count": 42,
   "metadata": {},
   "outputs": [],
   "source": [
    "import pandas as pd\n",
    "import json"
   ]
  },
  {
   "cell_type": "code",
   "execution_count": 46,
   "metadata": {},
   "outputs": [],
   "source": [
    "menus = ['northmess.xlsx', 'kadamba.xlsx', 'southmess.xlsx']\n",
    "dfs = [pd.read_excel('./excel_menu/' + menu) for menu in menus]    "
   ]
  },
  {
   "cell_type": "code",
   "execution_count": 47,
   "metadata": {},
   "outputs": [],
   "source": [
    "# Remove Column with all NaN values\n",
    "dfs = [df.dropna(axis=1, how='all') for df in dfs]\n",
    "# Remove Row with all NaN values\n",
    "dfs = [df.dropna(axis=0, how='all') for df in dfs]"
   ]
  },
  {
   "cell_type": "code",
   "execution_count": 48,
   "metadata": {},
   "outputs": [],
   "source": [
    "# Meal Replace all NaN with the value above it\n",
    "# dfs = [df.fillna(method='ffill') for df in dfs]\n",
    "# Do the above only on the first column 'Meal'\n",
    "for i in range(len(dfs)):\n",
    "    dfs[i]['Meal'] = dfs[i]['Meal'].fillna(method='ffill')\n",
    "\n",
    "# Replace all NaN with empty string\n",
    "dfs = [df.fillna('') for df in dfs]"
   ]
  },
  {
   "cell_type": "code",
   "execution_count": 40,
   "metadata": {},
   "outputs": [
    {
     "ename": "KeyError",
     "evalue": "'Meal'",
     "output_type": "error",
     "traceback": [
      "\u001b[0;31m---------------------------------------------------------------------------\u001b[0m",
      "\u001b[0;31mKeyError\u001b[0m                                  Traceback (most recent call last)",
      "File \u001b[0;32m~/.pyenv/versions/3.11.1/lib/python3.11/site-packages/pandas/core/indexes/base.py:3802\u001b[0m, in \u001b[0;36mIndex.get_loc\u001b[0;34m(self, key, method, tolerance)\u001b[0m\n\u001b[1;32m   3801\u001b[0m \u001b[39mtry\u001b[39;00m:\n\u001b[0;32m-> 3802\u001b[0m     \u001b[39mreturn\u001b[39;00m \u001b[39mself\u001b[39;49m\u001b[39m.\u001b[39;49m_engine\u001b[39m.\u001b[39;49mget_loc(casted_key)\n\u001b[1;32m   3803\u001b[0m \u001b[39mexcept\u001b[39;00m \u001b[39mKeyError\u001b[39;00m \u001b[39mas\u001b[39;00m err:\n",
      "File \u001b[0;32m~/.pyenv/versions/3.11.1/lib/python3.11/site-packages/pandas/_libs/index.pyx:138\u001b[0m, in \u001b[0;36mpandas._libs.index.IndexEngine.get_loc\u001b[0;34m()\u001b[0m\n",
      "File \u001b[0;32m~/.pyenv/versions/3.11.1/lib/python3.11/site-packages/pandas/_libs/index.pyx:165\u001b[0m, in \u001b[0;36mpandas._libs.index.IndexEngine.get_loc\u001b[0;34m()\u001b[0m\n",
      "File \u001b[0;32mpandas/_libs/hashtable_class_helper.pxi:5745\u001b[0m, in \u001b[0;36mpandas._libs.hashtable.PyObjectHashTable.get_item\u001b[0;34m()\u001b[0m\n",
      "File \u001b[0;32mpandas/_libs/hashtable_class_helper.pxi:5753\u001b[0m, in \u001b[0;36mpandas._libs.hashtable.PyObjectHashTable.get_item\u001b[0;34m()\u001b[0m\n",
      "\u001b[0;31mKeyError\u001b[0m: 'Meal'",
      "\nThe above exception was the direct cause of the following exception:\n",
      "\u001b[0;31mKeyError\u001b[0m                                  Traceback (most recent call last)",
      "\u001b[1;32m/Users/vjspranav/Projects/IIITMessMenu/readmenu.ipynb Cell 5\u001b[0m in \u001b[0;36m<cell line: 0>\u001b[0;34m()\u001b[0m\n\u001b[1;32m     <a href='vscode-notebook-cell:/Users/vjspranav/Projects/IIITMessMenu/readmenu.ipynb#W4sZmlsZQ%3D%3D?line=20'>21</a>\u001b[0m \u001b[39mif\u001b[39;00m day \u001b[39mnot\u001b[39;00m \u001b[39min\u001b[39;00m mess_menu[\u001b[39m'\u001b[39m\u001b[39mDays\u001b[39m\u001b[39m'\u001b[39m]:\n\u001b[1;32m     <a href='vscode-notebook-cell:/Users/vjspranav/Projects/IIITMessMenu/readmenu.ipynb#W4sZmlsZQ%3D%3D?line=21'>22</a>\u001b[0m     mess_menu[\u001b[39m'\u001b[39m\u001b[39mDays\u001b[39m\u001b[39m'\u001b[39m][day] \u001b[39m=\u001b[39m {}\n\u001b[0;32m---> <a href='vscode-notebook-cell:/Users/vjspranav/Projects/IIITMessMenu/readmenu.ipynb#W4sZmlsZQ%3D%3D?line=22'>23</a>\u001b[0m \u001b[39mif\u001b[39;00m row[\u001b[39m'\u001b[39;49m\u001b[39mMeal\u001b[39;49m\u001b[39m'\u001b[39;49m] \u001b[39mnot\u001b[39;00m \u001b[39min\u001b[39;00m mess_menu[\u001b[39m'\u001b[39m\u001b[39mDays\u001b[39m\u001b[39m'\u001b[39m][day]:\n\u001b[1;32m     <a href='vscode-notebook-cell:/Users/vjspranav/Projects/IIITMessMenu/readmenu.ipynb#W4sZmlsZQ%3D%3D?line=23'>24</a>\u001b[0m     mess_menu[\u001b[39m'\u001b[39m\u001b[39mDays\u001b[39m\u001b[39m'\u001b[39m][day][row[\u001b[39m'\u001b[39m\u001b[39mMeal\u001b[39m\u001b[39m'\u001b[39m]] \u001b[39m=\u001b[39m {}\n\u001b[1;32m     <a href='vscode-notebook-cell:/Users/vjspranav/Projects/IIITMessMenu/readmenu.ipynb#W4sZmlsZQ%3D%3D?line=24'>25</a>\u001b[0m mess_menu[\u001b[39m'\u001b[39m\u001b[39mDays\u001b[39m\u001b[39m'\u001b[39m][day][row[\u001b[39m'\u001b[39m\u001b[39mMeal\u001b[39m\u001b[39m'\u001b[39m]][row[\u001b[39m'\u001b[39m\u001b[39mItems\u001b[39m\u001b[39m'\u001b[39m]] \u001b[39m=\u001b[39m row[day]\n",
      "File \u001b[0;32m~/.pyenv/versions/3.11.1/lib/python3.11/site-packages/pandas/core/series.py:981\u001b[0m, in \u001b[0;36mSeries.__getitem__\u001b[0;34m(self, key)\u001b[0m\n\u001b[1;32m    978\u001b[0m     \u001b[39mreturn\u001b[39;00m \u001b[39mself\u001b[39m\u001b[39m.\u001b[39m_values[key]\n\u001b[1;32m    980\u001b[0m \u001b[39melif\u001b[39;00m key_is_scalar:\n\u001b[0;32m--> 981\u001b[0m     \u001b[39mreturn\u001b[39;00m \u001b[39mself\u001b[39;49m\u001b[39m.\u001b[39;49m_get_value(key)\n\u001b[1;32m    983\u001b[0m \u001b[39mif\u001b[39;00m is_hashable(key):\n\u001b[1;32m    984\u001b[0m     \u001b[39m# Otherwise index.get_value will raise InvalidIndexError\u001b[39;00m\n\u001b[1;32m    985\u001b[0m     \u001b[39mtry\u001b[39;00m:\n\u001b[1;32m    986\u001b[0m         \u001b[39m# For labels that don't resolve as scalars like tuples and frozensets\u001b[39;00m\n",
      "File \u001b[0;32m~/.pyenv/versions/3.11.1/lib/python3.11/site-packages/pandas/core/series.py:1089\u001b[0m, in \u001b[0;36mSeries._get_value\u001b[0;34m(self, label, takeable)\u001b[0m\n\u001b[1;32m   1086\u001b[0m     \u001b[39mreturn\u001b[39;00m \u001b[39mself\u001b[39m\u001b[39m.\u001b[39m_values[label]\n\u001b[1;32m   1088\u001b[0m \u001b[39m# Similar to Index.get_value, but we do not fall back to positional\u001b[39;00m\n\u001b[0;32m-> 1089\u001b[0m loc \u001b[39m=\u001b[39m \u001b[39mself\u001b[39;49m\u001b[39m.\u001b[39;49mindex\u001b[39m.\u001b[39;49mget_loc(label)\n\u001b[1;32m   1090\u001b[0m \u001b[39mreturn\u001b[39;00m \u001b[39mself\u001b[39m\u001b[39m.\u001b[39mindex\u001b[39m.\u001b[39m_get_values_for_loc(\u001b[39mself\u001b[39m, loc, label)\n",
      "File \u001b[0;32m~/.pyenv/versions/3.11.1/lib/python3.11/site-packages/pandas/core/indexes/base.py:3804\u001b[0m, in \u001b[0;36mIndex.get_loc\u001b[0;34m(self, key, method, tolerance)\u001b[0m\n\u001b[1;32m   3802\u001b[0m     \u001b[39mreturn\u001b[39;00m \u001b[39mself\u001b[39m\u001b[39m.\u001b[39m_engine\u001b[39m.\u001b[39mget_loc(casted_key)\n\u001b[1;32m   3803\u001b[0m \u001b[39mexcept\u001b[39;00m \u001b[39mKeyError\u001b[39;00m \u001b[39mas\u001b[39;00m err:\n\u001b[0;32m-> 3804\u001b[0m     \u001b[39mraise\u001b[39;00m \u001b[39mKeyError\u001b[39;00m(key) \u001b[39mfrom\u001b[39;00m \u001b[39merr\u001b[39;00m\n\u001b[1;32m   3805\u001b[0m \u001b[39mexcept\u001b[39;00m \u001b[39mTypeError\u001b[39;00m:\n\u001b[1;32m   3806\u001b[0m     \u001b[39m# If we have a listlike key, _check_indexing_error will raise\u001b[39;00m\n\u001b[1;32m   3807\u001b[0m     \u001b[39m#  InvalidIndexError. Otherwise we fall through and re-raise\u001b[39;00m\n\u001b[1;32m   3808\u001b[0m     \u001b[39m#  the TypeError.\u001b[39;00m\n\u001b[1;32m   3809\u001b[0m     \u001b[39mself\u001b[39m\u001b[39m.\u001b[39m_check_indexing_error(key)\n",
      "\u001b[0;31mKeyError\u001b[0m: 'Meal'"
     ]
    }
   ],
   "source": [
    "days = ['Monday', 'Tuesday', 'Wednesday', 'Thursday', 'Friday', 'Saturday', 'Sunday']\n",
    "meals = ['Breakfast', 'Lunch', 'Snack', 'Dinner']\n",
    "\n",
    "mess_menus = {}\n",
    "\n",
    "# for each menu\n",
    "for i in range(0, len(menus)):\n",
    "    df = dfs[i]\n",
    "    menu = menus[i]\n",
    "    mess_menu = {\n",
    "        'Days': {},\n",
    "        'lastUpdated': '01/08/2023',\n",
    "        'wef': '01/08/2023',\n",
    "        'additionalInfo': []\n",
    "        }\n",
    "\n",
    "    # for each row\n",
    "    for i in range(0, len(df)):\n",
    "        row = df.iloc[i]\n",
    "        for day in days:\n",
    "            if day not in mess_menu['Days']:\n",
    "                mess_menu['Days'][day] = {}\n",
    "            if row['Meal'] not in mess_menu['Days'][day]:\n",
    "                mess_menu['Days'][day][row['Meal']] = {}\n",
    "            mess_menu['Days'][day][row['Meal']][row['Items']] = row[day]\n",
    "\n",
    "    mess_menus[menu] = mess_menu\n"
   ]
  },
  {
   "cell_type": "code",
   "execution_count": 41,
   "metadata": {},
   "outputs": [],
   "source": [
    "# Save each to json\n",
    "for menu in mess_menus:\n",
    "    with open('src/menus/' + menu.split('.')[0] + '.json', 'w') as fp:\n",
    "        json.dump(mess_menus[menu], fp, indent=4)"
   ]
  },
  {
   "cell_type": "code",
   "execution_count": null,
   "metadata": {},
   "outputs": [],
   "source": []
  }
 ],
 "metadata": {
  "kernelspec": {
   "display_name": "Python 3",
   "language": "python",
   "name": "python3"
  },
  "language_info": {
   "codemirror_mode": {
    "name": "ipython",
    "version": 3
   },
   "file_extension": ".py",
   "mimetype": "text/x-python",
   "name": "python",
   "nbconvert_exporter": "python",
   "pygments_lexer": "ipython3",
   "version": "3.11.1"
  },
  "orig_nbformat": 4
 },
 "nbformat": 4,
 "nbformat_minor": 2
}
